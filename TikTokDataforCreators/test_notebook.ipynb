{
 "cells": [
  {
   "cell_type": "code",
   "execution_count": 20,
   "id": "afbfef57",
   "metadata": {},
   "outputs": [],
   "source": [
    "import pandas as pd"
   ]
  },
  {
   "cell_type": "code",
   "execution_count": 21,
   "id": "eadf5735",
   "metadata": {},
   "outputs": [],
   "source": [
    "ACCOUNT_LIST = pd.read_csv(config.UserSignUpPath().cached_user_table, index_col='user')\n",
    "\n",
    "        "
   ]
  },
  {
   "cell_type": "code",
   "execution_count": 22,
   "id": "5c87a9a3",
   "metadata": {},
   "outputs": [
    {
     "data": {
      "text/html": [
       "<div>\n",
       "<style scoped>\n",
       "    .dataframe tbody tr th:only-of-type {\n",
       "        vertical-align: middle;\n",
       "    }\n",
       "\n",
       "    .dataframe tbody tr th {\n",
       "        vertical-align: top;\n",
       "    }\n",
       "\n",
       "    .dataframe thead th {\n",
       "        text-align: right;\n",
       "    }\n",
       "</style>\n",
       "<table border=\"1\" class=\"dataframe\">\n",
       "  <thead>\n",
       "    <tr style=\"text-align: right;\">\n",
       "      <th></th>\n",
       "      <th>airtable_row_id</th>\n",
       "      <th>airtable_row_create_time</th>\n",
       "      <th>videos_uploaded</th>\n",
       "      <th>customer_email</th>\n",
       "      <th>hashtags</th>\n",
       "      <th>influencer</th>\n",
       "      <th>last_data_pull_date</th>\n",
       "      <th>last_video_pull_date</th>\n",
       "      <th>download_link</th>\n",
       "    </tr>\n",
       "    <tr>\n",
       "      <th>user</th>\n",
       "      <th></th>\n",
       "      <th></th>\n",
       "      <th></th>\n",
       "      <th></th>\n",
       "      <th></th>\n",
       "      <th></th>\n",
       "      <th></th>\n",
       "      <th></th>\n",
       "      <th></th>\n",
       "    </tr>\n",
       "  </thead>\n",
       "  <tbody>\n",
       "    <tr>\n",
       "      <th>tytheproductguy</th>\n",
       "      <td>recKGvmEQKlfQ8600</td>\n",
       "      <td>2023-03-18T09:32:55.000Z</td>\n",
       "      <td>True</td>\n",
       "      <td>tyler@vidvault.app</td>\n",
       "      <td>NaN</td>\n",
       "      <td>NaN</td>\n",
       "      <td>NaN</td>\n",
       "      <td>NaN</td>\n",
       "      <td>https://vidvault-app.s3.amazonaws.com/customer...</td>\n",
       "    </tr>\n",
       "    <tr>\n",
       "      <th>vidvaulttest</th>\n",
       "      <td>recupiGyKWN7WvI69</td>\n",
       "      <td>2023-03-18T18:57:09.000Z</td>\n",
       "      <td>False</td>\n",
       "      <td>tylerscheviak@gmail.com</td>\n",
       "      <td>NaN</td>\n",
       "      <td>NaN</td>\n",
       "      <td>NaN</td>\n",
       "      <td>NaN</td>\n",
       "      <td>NaN</td>\n",
       "    </tr>\n",
       "  </tbody>\n",
       "</table>\n",
       "</div>"
      ],
      "text/plain": [
       "                   airtable_row_id  airtable_row_create_time  videos_uploaded  \\\n",
       "user                                                                            \n",
       "tytheproductguy  recKGvmEQKlfQ8600  2023-03-18T09:32:55.000Z             True   \n",
       "vidvaulttest     recupiGyKWN7WvI69  2023-03-18T18:57:09.000Z            False   \n",
       "\n",
       "                          customer_email  hashtags  influencer  \\\n",
       "user                                                             \n",
       "tytheproductguy       tyler@vidvault.app       NaN         NaN   \n",
       "vidvaulttest     tylerscheviak@gmail.com       NaN         NaN   \n",
       "\n",
       "                 last_data_pull_date  last_video_pull_date  \\\n",
       "user                                                         \n",
       "tytheproductguy                  NaN                   NaN   \n",
       "vidvaulttest                     NaN                   NaN   \n",
       "\n",
       "                                                     download_link  \n",
       "user                                                                \n",
       "tytheproductguy  https://vidvault-app.s3.amazonaws.com/customer...  \n",
       "vidvaulttest                                                   NaN  "
      ]
     },
     "execution_count": 22,
     "metadata": {},
     "output_type": "execute_result"
    }
   ],
   "source": [
    "ACCOUNT_LIST"
   ]
  },
  {
   "cell_type": "code",
   "execution_count": 23,
   "id": "ac7754b8",
   "metadata": {},
   "outputs": [
    {
     "data": {
      "text/plain": [
       "0        vidvaulttest\n",
       "1        vidvaulttest\n",
       "2        vidvaulttest\n",
       "3        vidvaulttest\n",
       "4        vidvaulttest\n",
       "5        vidvaulttest\n",
       "6        vidvaulttest\n",
       "7        vidvaulttest\n",
       "8     tytheproductguy\n",
       "9     tytheproductguy\n",
       "10    tytheproductguy\n",
       "11    tytheproductguy\n",
       "12    tytheproductguy\n",
       "13    tytheproductguy\n",
       "14    tytheproductguy\n",
       "15    tytheproductguy\n",
       "16    tytheproductguy\n",
       "17    tytheproductguy\n",
       "18    tytheproductguy\n",
       "19    tytheproductguy\n",
       "20    tytheproductguy\n",
       "21    tytheproductguy\n",
       "22    tytheproductguy\n",
       "23    tytheproductguy\n",
       "24    tytheproductguy\n",
       "25    tytheproductguy\n",
       "26    tytheproductguy\n",
       "27       vidvaulttest\n",
       "28    tytheproductguy\n",
       "29    tytheproductguy\n",
       "30    tytheproductguy\n",
       "31       vidvaulttest\n",
       "32    tytheproductguy\n",
       "33       vidvaulttest\n",
       "34    tytheproductguy\n",
       "35       vidvaulttest\n",
       "Name: username, dtype: object"
      ]
     },
     "execution_count": 23,
     "metadata": {},
     "output_type": "execute_result"
    }
   ],
   "source": [
    "BAD_USERS = pd.read_csv(config.UserSignUpPath().bad_users)['username']\n",
    "BAD_USERS"
   ]
  },
  {
   "cell_type": "code",
   "execution_count": null,
   "id": "e2dcdbd3",
   "metadata": {},
   "outputs": [],
   "source": [
    "ACCOUNT_LIST = ACCOUNT_LIST.drop(BAD_USERS, axis=0)"
   ]
  }
 ],
 "metadata": {
  "kernelspec": {
   "display_name": "Python 3.10.6 64-bit ('tiktokdatapull')",
   "language": "python",
   "name": "python3106jvsc74a57bd0fe1778e8ba9d8c3e497ad3f0aee551715fea6c10306b7a1be32946b4dab3f487"
  },
  "language_info": {
   "codemirror_mode": {
    "name": "ipython",
    "version": 3
   },
   "file_extension": ".py",
   "mimetype": "text/x-python",
   "name": "python",
   "nbconvert_exporter": "python",
   "pygments_lexer": "ipython3",
   "version": "3.10.6"
  }
 },
 "nbformat": 4,
 "nbformat_minor": 5
}
