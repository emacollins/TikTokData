{
 "cells": [
  {
   "cell_type": "code",
   "execution_count": 1,
   "id": "afbfef57",
   "metadata": {},
   "outputs": [],
   "source": [
    "import config\n",
    "import datetime\n",
    "date=datetime.datetime.now()"
   ]
  },
  {
   "cell_type": "code",
   "execution_count": 2,
   "id": "35763ef4",
   "metadata": {},
   "outputs": [
    {
     "data": {
      "text/plain": [
       "'s3://vidvault-app/TikTokData/TikTokDataforCreators/harvest/data/tytheproductguy'"
      ]
     },
     "execution_count": 2,
     "metadata": {},
     "output_type": "execute_result"
    }
   ],
   "source": [
    "config.HarvestPath(user='tytheproductguy', date=date).user_data_path"
   ]
  },
  {
   "cell_type": "code",
   "execution_count": null,
   "id": "eadf5735",
   "metadata": {},
   "outputs": [],
   "source": []
  }
 ],
 "metadata": {
  "kernelspec": {
   "display_name": "Python 3.10.6 64-bit ('tiktokdatapull')",
   "language": "python",
   "name": "python3106jvsc74a57bd0fe1778e8ba9d8c3e497ad3f0aee551715fea6c10306b7a1be32946b4dab3f487"
  },
  "language_info": {
   "codemirror_mode": {
    "name": "ipython",
    "version": 3
   },
   "file_extension": ".py",
   "mimetype": "text/x-python",
   "name": "python",
   "nbconvert_exporter": "python",
   "pygments_lexer": "ipython3",
   "version": "3.10.6"
  }
 },
 "nbformat": 4,
 "nbformat_minor": 5
}
